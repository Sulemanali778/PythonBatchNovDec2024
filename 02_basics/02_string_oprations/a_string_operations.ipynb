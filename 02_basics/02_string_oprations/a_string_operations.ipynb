{
 "cells": [
  {
   "cell_type": "code",
   "execution_count": null,
   "metadata": {},
   "outputs": [
    {
     "name": "stdout",
     "output_type": "stream",
     "text": [
      "language[7:18] : Programming\n",
      "language[7:999] : Programming\n",
      "language[45:87] : \n"
     ]
    }
   ],
   "source": [
    "print(\"language[7:18] :\", language[7:18])   # Programming\n",
    "print(\"language[7:999] :\", language[7:999]) # 999 isn't present\n",
    "print(\"language[45:87] :\", language[45:87]) # indexes are not present"
   ]
  },
  {
   "cell_type": "code",
   "execution_count": 45,
   "metadata": {},
   "outputs": [],
   "source": [
    "# NOTE : In python, it doesn't include the last value, in a boundary condition."
   ]
  },
  {
   "cell_type": "code",
   "execution_count": null,
   "metadata": {},
   "outputs": [
    {
     "name": "stdout",
     "output_type": "stream",
     "text": [
      "language[0:5] : Pytho\n",
      "language[0:6] : Python\n"
     ]
    }
   ],
   "source": [
    "print(\"language[0:5] :\", language[0:5])  # Pytho\n",
    "print(\"language[0:6] :\", language[0:6])  # Python"
   ]
  },
  {
   "cell_type": "code",
   "execution_count": null,
   "metadata": {},
   "outputs": [
    {
     "name": "stdout",
     "output_type": "stream",
     "text": [
      "language[7:10] : Pro\n"
     ]
    }
   ],
   "source": [
    "print(\"language[7:10] :\", language[7:10])  # Pro"
   ]
  },
  {
   "cell_type": "code",
   "execution_count": null,
   "metadata": {},
   "outputs": [
    {
     "name": "stdout",
     "output_type": "stream",
     "text": [
      "language[5:17] : n Programmin\n"
     ]
    }
   ],
   "source": [
    "print(\"language[5:17] :\", language[5:17])  # n Programmin"
   ]
  },
  {
   "cell_type": "code",
   "execution_count": null,
   "metadata": {},
   "outputs": [
    {
     "name": "stdout",
     "output_type": "stream",
     "text": [
      "String Slicing\n",
      "language[0:11] : Python Prog\n"
     ]
    }
   ],
   "source": [
    "# slicing \n",
    "print(\"String Slicing\")  # [start_index: final_index]\n",
    "print(\"language[0:11] :\", language[0:11])  # Python Prog"
   ]
  },
  {
   "cell_type": "code",
   "execution_count": 40,
   "metadata": {},
   "outputs": [
    {
     "name": "stdout",
     "output_type": "stream",
     "text": [
      "language[0]: P\n"
     ]
    }
   ],
   "source": [
    "# Indexing \n",
    "print(\"language[0]:\", language[0])"
   ]
  },
  {
   "cell_type": "markdown",
   "metadata": {},
   "source": [
    "# String Slicing Operations"
   ]
  },
  {
   "cell_type": "code",
   "execution_count": 39,
   "metadata": {},
   "outputs": [
    {
     "ename": "TypeError",
     "evalue": "string indices must be integers, not 'float'",
     "output_type": "error",
     "traceback": [
      "\u001b[0;31m---------------------------------------------------------------------------\u001b[0m",
      "\u001b[0;31mTypeError\u001b[0m                                 Traceback (most recent call last)",
      "Cell \u001b[0;32mIn[39], line 1\u001b[0m\n\u001b[0;32m----> 1\u001b[0m \u001b[38;5;28mprint\u001b[39m(\u001b[38;5;124m\"\u001b[39m\u001b[38;5;124mlanguage[0.0]:\u001b[39m\u001b[38;5;124m\"\u001b[39m, \u001b[43mlanguage\u001b[49m\u001b[43m[\u001b[49m\u001b[38;5;241;43m0.0\u001b[39;49m\u001b[43m]\u001b[49m)\n",
      "\u001b[0;31mTypeError\u001b[0m: string indices must be integers, not 'float'"
     ]
    }
   ],
   "source": [
    "print(\"language[0.0]:\", language[0.0])"
   ]
  },
  {
   "cell_type": "code",
   "execution_count": 38,
   "metadata": {},
   "outputs": [],
   "source": [
    "# NOTE 1: for a string of length N,\n",
    "# we can indexing from -N to (N-1)"
   ]
  },
  {
   "cell_type": "code",
   "execution_count": 37,
   "metadata": {},
   "outputs": [
    {
     "ename": "IndexError",
     "evalue": "string index out of range",
     "output_type": "error",
     "traceback": [
      "\u001b[0;31m---------------------------------------------------------------------------\u001b[0m",
      "\u001b[0;31mIndexError\u001b[0m                                Traceback (most recent call last)",
      "Cell \u001b[0;32mIn[37], line 1\u001b[0m\n\u001b[0;32m----> 1\u001b[0m \u001b[38;5;28mprint\u001b[39m(\u001b[38;5;124m\"\u001b[39m\u001b[38;5;124mlanguage[-19]:\u001b[39m\u001b[38;5;124m\"\u001b[39m, \u001b[43mlanguage\u001b[49m\u001b[43m[\u001b[49m\u001b[38;5;241;43m-\u001b[39;49m\u001b[38;5;241;43m19\u001b[39;49m\u001b[43m]\u001b[49m)\n",
      "\u001b[0;31mIndexError\u001b[0m: string index out of range"
     ]
    }
   ],
   "source": [
    "print(\"language[-19]:\", language[-19])"
   ]
  },
  {
   "cell_type": "code",
   "execution_count": 36,
   "metadata": {},
   "outputs": [
    {
     "name": "stdout",
     "output_type": "stream",
     "text": [
      "language[-18]: P\n",
      "language[0]  : P\n"
     ]
    }
   ],
   "source": [
    "print(\"language[-18]:\", language[-18])\n",
    "print(\"language[0]  :\", language[0])"
   ]
  },
  {
   "cell_type": "code",
   "execution_count": 35,
   "metadata": {},
   "outputs": [
    {
     "name": "stdout",
     "output_type": "stream",
     "text": [
      "language[-3]   : i\n",
      "len(language) : 18\n",
      "language[len(language)-3]): i\n"
     ]
    }
   ],
   "source": [
    "print(\"language[-3]   :\", language[-3])\n",
    "print(\"len(language) :\", len(language))\n",
    "print(\"language[len(language)-3]):\", language[len(language)-3])"
   ]
  },
  {
   "cell_type": "code",
   "execution_count": 34,
   "metadata": {},
   "outputs": [
    {
     "name": "stdout",
     "output_type": "stream",
     "text": [
      "language[0] : P\n",
      "language[-0]: P\n"
     ]
    }
   ],
   "source": [
    "print(\"language[0] :\", language[0])\n",
    "print(\"language[-0]:\", language[-0])"
   ]
  },
  {
   "cell_type": "code",
   "execution_count": 33,
   "metadata": {},
   "outputs": [
    {
     "ename": "IndexError",
     "evalue": "string index out of range",
     "output_type": "error",
     "traceback": [
      "\u001b[0;31m---------------------------------------------------------------------------\u001b[0m",
      "\u001b[0;31mIndexError\u001b[0m                                Traceback (most recent call last)",
      "Cell \u001b[0;32mIn[33], line 1\u001b[0m\n\u001b[0;32m----> 1\u001b[0m \u001b[38;5;28mprint\u001b[39m(\u001b[38;5;124m\"\u001b[39m\u001b[38;5;124mlanguage[18]:\u001b[39m\u001b[38;5;124m\"\u001b[39m, \u001b[43mlanguage\u001b[49m\u001b[43m[\u001b[49m\u001b[38;5;241;43m18\u001b[39;49m\u001b[43m]\u001b[49m)\n",
      "\u001b[0;31mIndexError\u001b[0m: string index out of range"
     ]
    }
   ],
   "source": [
    "print(\"language[18]:\", language[18])"
   ]
  },
  {
   "cell_type": "code",
   "execution_count": 32,
   "metadata": {},
   "outputs": [
    {
     "name": "stdout",
     "output_type": "stream",
     "text": [
      "language    : Python Programming\n",
      "language[14]: m\n",
      "language[6] :  \n",
      "language[17]: g\n"
     ]
    }
   ],
   "source": [
    "print(\"language    :\", language)\n",
    "print(\"language[14]:\", language[14])\n",
    "print(\"language[6] :\", language[6])\n",
    "print(\"language[17]:\", language[17])"
   ]
  },
  {
   "cell_type": "code",
   "execution_count": 31,
   "metadata": {},
   "outputs": [],
   "source": [
    "# p y t h o n   p r o g   r  a   m   m   i   n    g\n",
    "# 0 1 2 3 4 5 6 7 8 9 10 11  12  13  14  15  16   17    left to right\n",
    "# -18               -9 -8  -7  -6                 -1    right to left\n",
    "\n",
    "# NOTE: indexing starts with 0"
   ]
  },
  {
   "cell_type": "code",
   "execution_count": 30,
   "metadata": {},
   "outputs": [
    {
     "name": "stdout",
     "output_type": "stream",
     "text": [
      "len(language)= 18\n"
     ]
    }
   ],
   "source": [
    "# len() - to get the no . of characters in the string\n",
    "print(\"len(language)=\", len(language))"
   ]
  },
  {
   "cell_type": "code",
   "execution_count": 29,
   "metadata": {},
   "outputs": [
    {
     "name": "stdout",
     "output_type": "stream",
     "text": [
      "Python Programming <class 'str'>\n"
     ]
    }
   ],
   "source": [
    "language = 'Python Programming'\n",
    "print(language, type(language))"
   ]
  },
  {
   "cell_type": "markdown",
   "metadata": {},
   "source": [
    "#### String Indexing"
   ]
  },
  {
   "cell_type": "code",
   "execution_count": 28,
   "metadata": {},
   "outputs": [],
   "source": [
    "my_string = \"\"\"select * from my_table where column = 'python' and column2 = \"django\";\"\"\""
   ]
  },
  {
   "cell_type": "code",
   "execution_count": 26,
   "metadata": {},
   "outputs": [
    {
     "name": "stdout",
     "output_type": "stream",
     "text": [
      "select * from my_table where column = 'python' and column2 = \"django\" \n"
     ]
    }
   ],
   "source": [
    "# Gotcha\n",
    "# my_string = 'select * from my_table where column = 'python' and column2 = \"django\" '\n",
    "# my_string = \"select * from my_table where column = 'python' and column2 = \"django\" \"\n",
    "my_string = '''select * from my_table where column = 'python' and column2 = \"django\" '''\n",
    "print(my_string)"
   ]
  },
  {
   "cell_type": "code",
   "execution_count": 25,
   "metadata": {},
   "outputs": [
    {
     "name": "stdout",
     "output_type": "stream",
     "text": [
      " \n",
      "    select * \n",
      "    from table1 t1\n",
      "    LEFT JOIN table2 t2 on t1.id = t2.id\n",
      "    ORDER by t1.id\n",
      "\n"
     ]
    }
   ],
   "source": [
    "sql_cmd = \"\"\" \n",
    "    select * \n",
    "    from table1 t1\n",
    "    LEFT JOIN table2 t2 on t1.id = t2.id\n",
    "    ORDER by t1.id\n",
    "\"\"\"\n",
    "print(sql_cmd)"
   ]
  },
  {
   "cell_type": "code",
   "execution_count": 24,
   "metadata": {},
   "outputs": [
    {
     "name": "stdout",
     "output_type": "stream",
     "text": [
      " \n",
      "    a - apple\n",
      "    b - ball\n",
      "    c - cat\n",
      "    d - dog\n"
     ]
    }
   ],
   "source": [
    "print(\n",
    "    \"\"\" \n",
    "    a - apple\n",
    "    b - ball\n",
    "    c - cat\n",
    "    d - dog\"\"\"\n",
    ")"
   ]
  },
  {
   "cell_type": "code",
   "execution_count": 23,
   "metadata": {},
   "outputs": [
    {
     "name": "stdout",
     "output_type": "stream",
     "text": [
      "Today is an awesome day\n",
      "    to learn python\n"
     ]
    }
   ],
   "source": [
    "print(\n",
    "    \"\"\"Today is an awesome day\n",
    "    to learn python\"\"\"\n",
    ")"
   ]
  },
  {
   "cell_type": "code",
   "execution_count": 22,
   "metadata": {},
   "outputs": [
    {
     "name": "stdout",
     "output_type": "stream",
     "text": [
      "Today is an awesome day\n",
      "    to learn python\n"
     ]
    }
   ],
   "source": [
    "print(\n",
    "    '''Today is an awesome day\n",
    "    to learn python'''\n",
    ")"
   ]
  },
  {
   "cell_type": "markdown",
   "metadata": {},
   "source": [
    "By default, triple quotes are designed for multi-line "
   ]
  },
  {
   "cell_type": "code",
   "execution_count": 21,
   "metadata": {},
   "outputs": [
    {
     "name": "stdout",
     "output_type": "stream",
     "text": [
      "Today is an awesome day    to learn python\n"
     ]
    }
   ],
   "source": [
    "print(\n",
    "    \"\"\"Today is an awesome day\\\n",
    "    to learn python\"\"\"\n",
    ")"
   ]
  },
  {
   "cell_type": "code",
   "execution_count": 20,
   "metadata": {},
   "outputs": [
    {
     "name": "stdout",
     "output_type": "stream",
     "text": [
      "Today is an awesome day    to learn python\n"
     ]
    }
   ],
   "source": [
    "print(\n",
    "    '''Today is an awesome day\\\n",
    "    to learn python'''\n",
    ")"
   ]
  },
  {
   "cell_type": "code",
   "execution_count": 19,
   "metadata": {},
   "outputs": [
    {
     "name": "stdout",
     "output_type": "stream",
     "text": [
      "Today is an awesome day    to learn python\n"
     ]
    }
   ],
   "source": [
    "print(\n",
    "    'Today is an awesome day\\\n",
    "    to learn python'\n",
    ")"
   ]
  },
  {
   "cell_type": "code",
   "execution_count": 18,
   "metadata": {},
   "outputs": [
    {
     "name": "stdout",
     "output_type": "stream",
     "text": [
      "Today is an awesome day    to learn python\n"
     ]
    }
   ],
   "source": [
    "print(\n",
    "    \"Today is an awesome day\\\n",
    "    to learn python\"\n",
    ")\n",
    "\n",
    "# \\ line continous operator"
   ]
  },
  {
   "cell_type": "markdown",
   "metadata": {},
   "source": [
    "NOTE: Python is interpreter based Language, Line by Line execution happens"
   ]
  },
  {
   "cell_type": "code",
   "execution_count": 16,
   "metadata": {},
   "outputs": [
    {
     "ename": "SyntaxError",
     "evalue": "unterminated string literal (detected at line 2) (901277623.py, line 2)",
     "output_type": "error",
     "traceback": [
      "\u001b[0;36m  Cell \u001b[0;32mIn[16], line 2\u001b[0;36m\u001b[0m\n\u001b[0;31m    \"Today is an awesome day\u001b[0m\n\u001b[0m    ^\u001b[0m\n\u001b[0;31mSyntaxError\u001b[0m\u001b[0;31m:\u001b[0m unterminated string literal (detected at line 2)\n"
     ]
    }
   ],
   "source": [
    "print(\n",
    "    \"Today is an awesome day\n",
    "    to learn python\"\n",
    ")"
   ]
  },
  {
   "cell_type": "markdown",
   "metadata": {},
   "source": [
    "#### Multi-line Strings"
   ]
  },
  {
   "cell_type": "code",
   "execution_count": 15,
   "metadata": {},
   "outputs": [
    {
     "name": "stdout",
     "output_type": "stream",
     "text": [
      "\n",
      "\n",
      "\n"
     ]
    }
   ],
   "source": [
    "print(\"\\n\\n\")\n",
    "# '\\''\n",
    "# \"'\"\n",
    "# '\"'\n",
    "# ''' '\"\"' '''\n",
    "# \"\"\" ''' '\"\"' ''' \"\"\"\n",
    "# \" ''' \""
   ]
  },
  {
   "cell_type": "code",
   "execution_count": 14,
   "metadata": {},
   "outputs": [
    {
     "name": "stdout",
     "output_type": "stream",
     "text": [
      "python -c 'awdwad' asdss \"sfdsdfd\", '''dedfdwef sd -m jd;jd''' \n"
     ]
    }
   ],
   "source": [
    "some_other_str = \"\"\"python -c 'awdwad' asdss \"sfdsdfd\", '''dedfdwef sd -m jd;jd''' \"\"\"\n",
    "print(some_other_str)"
   ]
  },
  {
   "cell_type": "code",
   "execution_count": 13,
   "metadata": {},
   "outputs": [
    {
     "name": "stdout",
     "output_type": "stream",
     "text": [
      "select * from mytable where name = 'suleman' and profession like \"%work\" \n"
     ]
    }
   ],
   "source": [
    "sql_cmd = '''select * from mytable where name = 'suleman' and profession like \"%work\" '''\n",
    "print(sql_cmd)"
   ]
  },
  {
   "cell_type": "code",
   "execution_count": 12,
   "metadata": {},
   "outputs": [
    {
     "name": "stdout",
     "output_type": "stream",
     "text": [
      "what's going in yours' in-law's house\n"
     ]
    }
   ],
   "source": [
    "other_string = \"what's going in yours' in-law's house\"\n",
    "print(other_string)"
   ]
  },
  {
   "cell_type": "markdown",
   "metadata": {},
   "source": [
    "NOTE1 : placing a slash(\\) before the operator with result\n",
    "In treating operator as ordinary character"
   ]
  },
  {
   "cell_type": "code",
   "execution_count": 8,
   "metadata": {},
   "outputs": [
    {
     "name": "stdout",
     "output_type": "stream",
     "text": [
      "what's up ! <class 'str'>\n"
     ]
    }
   ],
   "source": [
    "where_abouts = 'what\\'s up !'\n",
    "print(where_abouts, type(where_abouts))"
   ]
  },
  {
   "cell_type": "code",
   "execution_count": 7,
   "metadata": {},
   "outputs": [
    {
     "name": "stdout",
     "output_type": "stream",
     "text": [
      "How are you ? <class 'str'>\n"
     ]
    }
   ],
   "source": [
    "Question = 'How are you ?'\n",
    "print(Question, type(Question))"
   ]
  },
  {
   "cell_type": "code",
   "execution_count": 6,
   "metadata": {},
   "outputs": [
    {
     "name": "stdout",
     "output_type": "stream",
     "text": [
      "Python Programming <class 'str'>\n"
     ]
    }
   ],
   "source": [
    "Language = 'Python Programming'\n",
    "print(Language, type(Language))"
   ]
  },
  {
   "cell_type": "markdown",
   "metadata": {},
   "source": [
    "### Importance and usage of multiple quotes"
   ]
  },
  {
   "cell_type": "markdown",
   "metadata": {},
   "source": [
    "NOTE: PEP 8 -> use triple double quotes for Doc-string"
   ]
  },
  {
   "cell_type": "code",
   "execution_count": 4,
   "metadata": {},
   "outputs": [
    {
     "name": "stdout",
     "output_type": "stream",
     "text": [
      "Python Programming <class 'str'>\n"
     ]
    }
   ],
   "source": [
    "# string with triple double quotes \n",
    "Language = \"\"\"Python Programming\"\"\"\n",
    "print(Language, type(Language))"
   ]
  },
  {
   "cell_type": "code",
   "execution_count": 3,
   "metadata": {},
   "outputs": [
    {
     "name": "stdout",
     "output_type": "stream",
     "text": [
      "Python Programming <class 'str'>\n"
     ]
    }
   ],
   "source": [
    "# string with triple single quotes \n",
    "Language = '''Python Programming'''\n",
    "print(Language, type(Language))"
   ]
  },
  {
   "cell_type": "code",
   "execution_count": 2,
   "metadata": {},
   "outputs": [
    {
     "name": "stdout",
     "output_type": "stream",
     "text": [
      "Python Programming <class 'str'>\n"
     ]
    }
   ],
   "source": [
    "# string with double quotes \n",
    "Language = \"Python Programming\"\n",
    "print(Language, type(Language))"
   ]
  },
  {
   "cell_type": "code",
   "execution_count": 1,
   "metadata": {},
   "outputs": [
    {
     "name": "stdout",
     "output_type": "stream",
     "text": [
      "Python Programming <class 'str'>\n"
     ]
    }
   ],
   "source": [
    "# string with single quotes \n",
    "Language = 'Python Programming'\n",
    "print(Language, type(Language))"
   ]
  },
  {
   "cell_type": "markdown",
   "metadata": {},
   "source": [
    "## String Operations\n",
    "\n",
    "\n",
    "    Strings can be represented using\n",
    "        1) single quotes,\n",
    "        2) double quotes, or\n",
    "        3) triple single quotes or\n",
    "        4) triple double quotes"
   ]
  }
 ],
 "metadata": {
  "kernelspec": {
   "display_name": "Python 3",
   "language": "python",
   "name": "python3"
  },
  "language_info": {
   "codemirror_mode": {
    "name": "ipython",
    "version": 3
   },
   "file_extension": ".py",
   "mimetype": "text/x-python",
   "name": "python",
   "nbconvert_exporter": "python",
   "pygments_lexer": "ipython3",
   "version": "3.12.1"
  }
 },
 "nbformat": 4,
 "nbformat_minor": 2
}
